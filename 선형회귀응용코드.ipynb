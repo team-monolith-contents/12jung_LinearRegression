{
 "cells": [
  {
   "cell_type": "markdown",
   "id": "454f91dc-9fa6-4262-8007-53994e8b9da1",
   "metadata": {
    "deletable": false,
    "editable": false,
    "slideshow": {
     "slide_type": ""
    },
    "tags": []
   },
   "source": [
    "#### **선형회귀 응용**\n",
    "\n",
    "- 선형회귀 기본 코드를 이용해서 회귀 그래프를 그려봅시다.\n",
    "- 데이터 불러오고 독립변수, 종속변수 지정하는 코드만 수정하면 됩니다. "
   ]
  },
  {
   "cell_type": "markdown",
   "id": "a69aa8e4-0c1c-49dc-865f-87fdbdad5602",
   "metadata": {
    "deletable": false,
    "editable": false,
    "slideshow": {
     "slide_type": ""
    },
    "tags": []
   },
   "source": [
    "##### **단계 1. 선형회귀 라이브러리 불러오기**"
   ]
  },
  {
   "cell_type": "code",
   "execution_count": null,
   "id": "0ff5d552-674f-46fd-8365-93903cd9ff3c",
   "metadata": {
    "editable": false,
    "slideshow": {
     "slide_type": ""
    },
    "tags": []
   },
   "outputs": [],
   "source": [
    "# 단계 1 : 선형회귀 라이브러리 불러오기\n",
    "\n",
    "import numpy as np\n",
    "import matplotlib.pyplot as plt\n",
    "from sklearn.linear_model import LinearRegression"
   ]
  },
  {
   "cell_type": "markdown",
   "id": "a006c3a4-8cb3-45b1-88cb-3e1cb6ee9e54",
   "metadata": {
    "deletable": false,
    "editable": false,
    "slideshow": {
     "slide_type": ""
    },
    "tags": []
   },
   "source": [
    "##### **단계2. 수집한 데이터 불러오기**\n",
    "\n",
    "- `day.csv` 파일을 불러와서 df에 저장합니다. "
   ]
  },
  {
   "cell_type": "code",
   "execution_count": null,
   "id": "76bd96a0-d4e9-4f48-a50b-e3b95288f449",
   "metadata": {
    "codle/previous_execution": {
     "code": "# 단계2 : 데이터 불러오기\n\nimport pandas as pd\ndf = pd.read_csv('day.csv')\n\ndf",
     "id": "6025904"
    },
    "editable": false,
    "slideshow": {
     "slide_type": ""
    },
    "tags": []
   },
   "outputs": [],
   "source": [
    "# 단계2 : 데이터 불러오기\n",
    "\n",
    "import pandas as pd\n",
    "df = pd.read_csv('day.csv')\n",
    "\n",
    "df"
   ]
  },
  {
   "cell_type": "markdown",
   "id": "13e8f706-0399-48f7-9c19-6de3b16c356e",
   "metadata": {
    "deletable": false,
    "editable": false,
    "slideshow": {
     "slide_type": ""
    },
    "tags": []
   },
   "source": [
    "- 독립변수와 종속변수를 지정합니다.\n",
    "- 독립변수는 영향을 주는 변수입니다. 온도에 영향을 받는 자전거 대여수를 예측하는 활동으로 여기서 독립변수는 `온도`입니다.\n",
    "- 종속변수는 영향을 받는 변수입니다. 온도에 영향을 받는 자전거 대여수. 여기서 종속변수는 `자전거 대여수`입니다."
   ]
  },
  {
   "cell_type": "code",
   "execution_count": null,
   "id": "797fdfb8-2ebc-4616-968b-5e796bb83fbf",
   "metadata": {
    "editable": false,
    "slideshow": {
     "slide_type": ""
    },
    "tags": []
   },
   "outputs": [],
   "source": [
    "# 독립변수, 종속변수 지정\n",
    "\n",
    "X = df['temp'].to_frame()\n",
    "y = df['cnt']\n",
    "\n",
    "X"
   ]
  },
  {
   "cell_type": "markdown",
   "id": "77143fdd-e3b0-4213-99a8-fac6dd09d59c",
   "metadata": {
    "deletable": false,
    "editable": false,
    "slideshow": {
     "slide_type": ""
    },
    "tags": []
   },
   "source": [
    "##### **단계3. 모델을 만들고 회귀선 시각화**\n",
    "\n",
    "- 모델을 만들고 회귀선을 시각화합니다.\n",
    "- 코드는 선형회귀 기본코드와 같습니다. "
   ]
  },
  {
   "cell_type": "code",
   "execution_count": null,
   "id": "1855a5e2-2f91-48dc-abb2-67cdf0d26674",
   "metadata": {
    "editable": false,
    "slideshow": {
     "slide_type": ""
    },
    "tags": []
   },
   "outputs": [],
   "source": [
    "# 단계3 : 선형 회귀 모델 학습\n",
    "model = LinearRegression()\n",
    "model.fit(X, y)\n",
    "\n",
    "# 회귀선 시각화\n",
    "plt.scatter(X, y, color='blue', label='Data')\n",
    "plt.plot(X, model.predict(X), color='red', label='Linear Regression')\n",
    "plt.xlabel('X')\n",
    "plt.ylabel('y')\n",
    "plt.title('Simple Linear Regression')\n",
    "plt.legend()\n",
    "plt.show()"
   ]
  },
  {
   "cell_type": "markdown",
   "id": "7f8d0976-dce6-427e-90b9-56366fd9bc18",
   "metadata": {
    "deletable": false,
    "editable": false,
    "slideshow": {
     "slide_type": ""
    },
    "tags": []
   },
   "source": [
    "##### **단계4. 온도를 입력하고 자전거 대여수 예측하기**\n",
    "\n",
    "- 만들어진 모델을 이용해서 자전거 대여수를 예측할 수 있습니다. "
   ]
  },
  {
   "cell_type": "code",
   "execution_count": null,
   "id": "6f66a29c-51d2-4729-af5c-81de09b0dd3b",
   "metadata": {
    "editable": false,
    "slideshow": {
     "slide_type": ""
    },
    "tags": []
   },
   "outputs": [],
   "source": [
    "# 단계4 : 온도를 입력하고 자전거 대여수 예측하기\n",
    "\n",
    "# 정규화지수\n",
    "t_min = -8\n",
    "t_max = +39\n",
    "############\n",
    "\n",
    "# 여기에 예측하고 싶은 섭씨 온도를 입력하세요. \n",
    "# 예측하고 싶은 온도 지정\n",
    "t = #예측하고 싶은 온도\n",
    "########################\n",
    "\n",
    "# 정규화\n",
    "X_pred = (t-t_min)/(t_max-t_min)\n",
    "X_pred = pd.DataFrame([[X_pred]], columns = ['temp'])\n",
    "\n",
    "# 예측결과 출력\n",
    "print(model.predict(X_pred))"
   ]
  }
 ],
 "metadata": {
  "kernelspec": {
   "display_name": "Python 3 (ipykernel)",
   "language": "python",
   "name": "python3"
  },
  "language_info": {
   "codemirror_mode": {
    "name": "ipython",
    "version": 3
   },
   "file_extension": ".py",
   "mimetype": "text/x-python",
   "name": "python",
   "nbconvert_exporter": "python",
   "pygments_lexer": "ipython3",
   "version": "3.10.14"
  },
  "read_only": true
 },
 "nbformat": 4,
 "nbformat_minor": 5
}
